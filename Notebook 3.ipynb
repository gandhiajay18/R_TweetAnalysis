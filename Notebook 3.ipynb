{
 "cells": [
  {
   "cell_type": "markdown",
   "metadata": {},
   "source": [
    "# Notebook 3"
   ]
  },
  {
   "cell_type": "markdown",
   "metadata": {},
   "source": [
    "### Trends in nearby Location\n",
    "\n",
    "##### References:\n",
    "##### 1. ''R on Jupyter'' - classnotes\n",
    "##### 2.\"twitteR.pdf\" - http://geoffjentry.hexdump.org/twitteR.pdf\n",
    "##### 3. \"sprintf\" - https://www.rdocumentation.org/packages/base/versions/3.3.2/topics/sprintf"
   ]
  },
  {
   "cell_type": "code",
   "execution_count": 92,
   "metadata": {
    "collapsed": false
   },
   "outputs": [],
   "source": [
    "#Import all necessary libraries\n",
    "library(\"ggmap\")\n",
    "library(maptools)\n",
    "library(maps)\n",
    "library(twitteR)\n",
    "library(maps)\n",
    "library(maptools)\n",
    "library(plyr)\n",
    "library(dplyr)"
   ]
  },
  {
   "cell_type": "code",
   "execution_count": 93,
   "metadata": {
    "collapsed": false,
    "scrolled": true
   },
   "outputs": [
    {
     "name": "stdout",
     "output_type": "stream",
     "text": [
      "[1] \"Using direct authentication\"\n"
     ]
    }
   ],
   "source": [
    "#Twitter Oauth Setup\n",
    "setup_twitter_oauth('', '', '', '')"
   ]
  },
  {
   "cell_type": "code",
   "execution_count": 94,
   "metadata": {
    "collapsed": true
   },
   "outputs": [],
   "source": [
    "#Collect City name in a variable\n",
    "cityName <- \"Mysore\""
   ]
  },
  {
   "cell_type": "code",
   "execution_count": 95,
   "metadata": {
    "collapsed": false
   },
   "outputs": [
    {
     "name": "stderr",
     "output_type": "stream",
     "text": [
      "Information from URL : http://maps.googleapis.com/maps/api/geocode/json?address=Mysore&sensor=false\n"
     ]
    }
   ],
   "source": [
    "#Get Location details by performing Geocode operation\n",
    "cityLoc <- geocode(cityName)"
   ]
  },
  {
   "cell_type": "code",
   "execution_count": 96,
   "metadata": {
    "collapsed": false,
    "scrolled": false
   },
   "outputs": [
    {
     "data": {
      "text/html": [
       "<ol>\n",
       "\t<li><table>\n",
       "<thead><tr><th scope=col>lon</th><th scope=col>lat</th></tr></thead>\n",
       "<tbody>\n",
       "\t<tr><td>76.63938</td><td>12.29581</td></tr>\n",
       "</tbody>\n",
       "</table>\n",
       "</li>\n",
       "</ol>\n"
      ],
      "text/latex": [
       "\\begin{enumerate}\n",
       "\\item \\begin{tabular}{r|ll}\n",
       " lon & lat\\\\\n",
       "\\hline\n",
       "\t 76.63938 & 12.29581\\\\\n",
       "\\end{tabular}\n",
       "\n",
       "\\end{enumerate}\n"
      ],
      "text/markdown": [
       "1. \n",
       "lon | lat | \n",
       "|---|\n",
       "| 76.63938 | 12.29581 | \n",
       "\n",
       "\n",
       "\n",
       "\n",
       "\n"
      ],
      "text/plain": [
       "[[1]]\n",
       "       lon      lat\n",
       "1 76.63938 12.29581\n"
      ]
     },
     "metadata": {},
     "output_type": "display_data"
    }
   ],
   "source": [
    "#We get the Lon and Lat values for the location\n",
    "list(cityLoc)"
   ]
  },
  {
   "cell_type": "code",
   "execution_count": 97,
   "metadata": {
    "collapsed": false
   },
   "outputs": [],
   "source": [
    "#Find the Closest city based on the Longitude and Latitude Values\n",
    "trendLoc <- closestTrendLocations(lat = cityLoc$lat, long = cityLoc$lon)\n",
    "#trendloc <- closestTrendLocations(lat = 32.8860,long= -21.8784)"
   ]
  },
  {
   "cell_type": "code",
   "execution_count": 98,
   "metadata": {
    "collapsed": false
   },
   "outputs": [
    {
     "data": {
      "text/html": [
       "<table>\n",
       "<thead><tr><th scope=col>name</th><th scope=col>country</th><th scope=col>woeid</th></tr></thead>\n",
       "<tbody>\n",
       "\t<tr><td>Bangalore</td><td>India    </td><td>2295420  </td></tr>\n",
       "</tbody>\n",
       "</table>\n"
      ],
      "text/latex": [
       "\\begin{tabular}{r|lll}\n",
       " name & country & woeid\\\\\n",
       "\\hline\n",
       "\t Bangalore & India     & 2295420  \\\\\n",
       "\\end{tabular}\n"
      ],
      "text/markdown": [
       "\n",
       "name | country | woeid | \n",
       "|---|\n",
       "| Bangalore | India     | 2295420   | \n",
       "\n",
       "\n"
      ],
      "text/plain": [
       "  name      country woeid  \n",
       "1 Bangalore India   2295420"
      ]
     },
     "metadata": {},
     "output_type": "display_data"
    }
   ],
   "source": [
    "#Show the Name, Country, and Woeid of the city\n",
    "head(trendLoc)"
   ]
  },
  {
   "cell_type": "code",
   "execution_count": 99,
   "metadata": {
    "collapsed": false
   },
   "outputs": [],
   "source": [
    "#Get the list of trends of that city by using getTrends function and passing woeid to it\n",
    "current_Trends <- getTrends(trendLoc$woeid)"
   ]
  },
  {
   "cell_type": "code",
   "execution_count": 100,
   "metadata": {
    "collapsed": true
   },
   "outputs": [
    {
     "name": "stdout",
     "output_type": "stream",
     "text": [
      "\n",
      "The current Trends in Bangalore are:\n",
      "\n",
      "#<U+0917><U+0920><U+092C><U+0902><U+0927><U+0928>_<U+0915><U+093E>_<U+092A><U+0939><U+0932><U+093E>_<U+0935><U+093E><U+0926><U+093E> \n",
      "#BJP4<U+0938><U+0941><U+0936><U+093E><U+0938><U+0928> \n",
      "Blockbuster HKNKJ \n",
      "#VoiceIndiaLives5 \n",
      "#DissolveTNGovt \n",
      "#ILoveRisingStar \n",
      "JOLLY FIRST HIT OF 2017 \n",
      "PET and CT \n",
      "Kevin Pietersen \n",
      "2 Months To NOOR"
     ]
    }
   ],
   "source": [
    "#List out the top 10 trends of the city\n",
    "x <- head(current_Trends$name,n=10)\n",
    "cat(sprintf(\"\\nThe current Trends in %s are:\\n\",trendLoc$name))\n",
    "cat(sprintf(\"\\n%s\",x))\n"
   ]
  },
  {
   "cell_type": "code",
   "execution_count": null,
   "metadata": {
    "collapsed": true
   },
   "outputs": [],
   "source": []
  }
 ],
 "metadata": {
  "kernelspec": {
   "display_name": "R",
   "language": "R",
   "name": "ir"
  },
  "language_info": {
   "codemirror_mode": "r",
   "file_extension": ".r",
   "mimetype": "text/x-r-source",
   "name": "R",
   "pygments_lexer": "r",
   "version": "3.3.2"
  }
 },
 "nbformat": 4,
 "nbformat_minor": 2
}

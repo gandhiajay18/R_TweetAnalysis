{
 "cells": [
  {
   "cell_type": "markdown",
   "metadata": {},
   "source": [
    "# Notebook 1"
   ]
  },
  {
   "cell_type": "markdown",
   "metadata": {},
   "source": [
    "#### Assign Variables and Print Result\n",
    "\n",
    "##### References:\n",
    "##### 1. ''R on Jupyter'' - classnotes\n",
    "##### 2.\"twitteR.pdf\" - http://geoffjentry.hexdump.org/twitteR.pdf"
   ]
  },
  {
   "cell_type": "code",
   "execution_count": 1,
   "metadata": {
    "collapsed": false
   },
   "outputs": [
    {
     "data": {
      "text/html": [
       "10"
      ],
      "text/latex": [
       "10"
      ],
      "text/markdown": [
       "10"
      ],
      "text/plain": [
       "[1] 10"
      ]
     },
     "metadata": {},
     "output_type": "display_data"
    }
   ],
   "source": [
    "a <- 4       #Assign value to variable\n",
    "b <- 6       #Assign value to variable\n",
    "a + b        #return sum"
   ]
  },
  {
   "cell_type": "code",
   "execution_count": 2,
   "metadata": {
    "collapsed": false
   },
   "outputs": [
    {
     "data": {
      "text/html": [
       "10"
      ],
      "text/latex": [
       "10"
      ],
      "text/markdown": [
       "10"
      ],
      "text/plain": [
       "[1] 10"
      ]
     },
     "metadata": {},
     "output_type": "display_data"
    }
   ],
   "source": [
    "result <- a+ b    #Assign sum to variable\n",
    "result            #print result"
   ]
  },
  {
   "cell_type": "markdown",
   "metadata": {},
   "source": [
    "#### Create and Retrieve Vectors"
   ]
  },
  {
   "cell_type": "code",
   "execution_count": 22,
   "metadata": {
    "collapsed": false
   },
   "outputs": [
    {
     "data": {
      "text/html": [
       "3"
      ],
      "text/latex": [
       "3"
      ],
      "text/markdown": [
       "3"
      ],
      "text/plain": [
       "[1] 3"
      ]
     },
     "metadata": {},
     "output_type": "display_data"
    }
   ],
   "source": [
    "list <- c(1,2,3,4)    #Create Vectors\n",
    "list[3]               #Indices start at 1, not 0"
   ]
  },
  {
   "cell_type": "code",
   "execution_count": 5,
   "metadata": {
    "collapsed": false
   },
   "outputs": [
    {
     "data": {
      "text/html": [],
      "text/latex": [],
      "text/markdown": [],
      "text/plain": [
       "numeric(0)"
      ]
     },
     "metadata": {},
     "output_type": "display_data"
    }
   ],
   "source": [
    "list[0]               #Returns nothing"
   ]
  },
  {
   "cell_type": "code",
   "execution_count": 6,
   "metadata": {
    "collapsed": false
   },
   "outputs": [
    {
     "data": {
      "text/html": [
       "4"
      ],
      "text/latex": [
       "4"
      ],
      "text/markdown": [
       "4"
      ],
      "text/plain": [
       "[1] 4"
      ]
     },
     "metadata": {},
     "output_type": "display_data"
    },
    {
     "data": {
      "text/plain": [
       "[1] NA"
      ]
     },
     "metadata": {},
     "output_type": "display_data"
    }
   ],
   "source": [
    "list[4]              #Returns last value\n",
    "list[5]              #Returns NA as List is of size 4 only"
   ]
  },
  {
   "cell_type": "markdown",
   "metadata": {},
   "source": [
    "#### Vector Operations"
   ]
  },
  {
   "cell_type": "code",
   "execution_count": 59,
   "metadata": {
    "collapsed": true
   },
   "outputs": [
    {
     "name": "stdout",
     "output_type": "stream",
     "text": [
      "[1] \"List Before Modification\"\n"
     ]
    },
    {
     "data": {
      "text/html": [
       "<dl class=dl-horizontal>\n",
       "\t<dt>1st</dt>\n",
       "\t\t<dd>40</dd>\n",
       "\t<dt>2nd</dt>\n",
       "\t\t<dd>8</dd>\n",
       "\t<dt>3rd</dt>\n",
       "\t\t<dd>12</dd>\n",
       "\t<dt>4th</dt>\n",
       "\t\t<dd>16</dd>\n",
       "</dl>\n"
      ],
      "text/latex": [
       "\\begin{description*}\n",
       "\\item[1st] 40\n",
       "\\item[2nd] 8\n",
       "\\item[3rd] 12\n",
       "\\item[4th] 16\n",
       "\\end{description*}\n"
      ],
      "text/markdown": [
       "1st\n",
       ":   402nd\n",
       ":   83rd\n",
       ":   124th\n",
       ":   16\n",
       "\n"
      ],
      "text/plain": [
       "1st 2nd 3rd 4th \n",
       " 40   8  12  16 "
      ]
     },
     "metadata": {},
     "output_type": "display_data"
    },
    {
     "name": "stdout",
     "output_type": "stream",
     "text": [
      "[1] \"List after assigning names:\"\n"
     ]
    },
    {
     "data": {
      "text/html": [
       "<dl class=dl-horizontal>\n",
       "\t<dt>1st</dt>\n",
       "\t\t<dd>40</dd>\n",
       "\t<dt>2nd</dt>\n",
       "\t\t<dd>8</dd>\n",
       "\t<dt>3rd</dt>\n",
       "\t\t<dd>12</dd>\n",
       "\t<dt>4th</dt>\n",
       "\t\t<dd>16</dd>\n",
       "</dl>\n"
      ],
      "text/latex": [
       "\\begin{description*}\n",
       "\\item[1st] 40\n",
       "\\item[2nd] 8\n",
       "\\item[3rd] 12\n",
       "\\item[4th] 16\n",
       "\\end{description*}\n"
      ],
      "text/markdown": [
       "1st\n",
       ":   402nd\n",
       ":   83rd\n",
       ":   124th\n",
       ":   16\n",
       "\n"
      ],
      "text/plain": [
       "1st 2nd 3rd 4th \n",
       " 40   8  12  16 "
      ]
     },
     "metadata": {},
     "output_type": "display_data"
    },
    {
     "name": "stdout",
     "output_type": "stream",
     "text": [
      "[1] \"List after changing 1st value:\"\n"
     ]
    },
    {
     "data": {
      "text/html": [
       "<dl class=dl-horizontal>\n",
       "\t<dt>1st</dt>\n",
       "\t\t<dd>10</dd>\n",
       "\t<dt>2nd</dt>\n",
       "\t\t<dd>8</dd>\n",
       "\t<dt>3rd</dt>\n",
       "\t\t<dd>12</dd>\n",
       "\t<dt>4th</dt>\n",
       "\t\t<dd>16</dd>\n",
       "</dl>\n"
      ],
      "text/latex": [
       "\\begin{description*}\n",
       "\\item[1st] 10\n",
       "\\item[2nd] 8\n",
       "\\item[3rd] 12\n",
       "\\item[4th] 16\n",
       "\\end{description*}\n"
      ],
      "text/markdown": [
       "1st\n",
       ":   102nd\n",
       ":   83rd\n",
       ":   124th\n",
       ":   16\n",
       "\n"
      ],
      "text/plain": [
       "1st 2nd 3rd 4th \n",
       " 10   8  12  16 "
      ]
     },
     "metadata": {},
     "output_type": "display_data"
    },
    {
     "name": "stdout",
     "output_type": "stream",
     "text": [
      "[1] \"List after Arithmetic Operation:\"\n"
     ]
    },
    {
     "data": {
      "text/html": [
       "<dl class=dl-horizontal>\n",
       "\t<dt>1st</dt>\n",
       "\t\t<dd>40</dd>\n",
       "\t<dt>2nd</dt>\n",
       "\t\t<dd>32</dd>\n",
       "\t<dt>3rd</dt>\n",
       "\t\t<dd>48</dd>\n",
       "\t<dt>4th</dt>\n",
       "\t\t<dd>64</dd>\n",
       "</dl>\n"
      ],
      "text/latex": [
       "\\begin{description*}\n",
       "\\item[1st] 40\n",
       "\\item[2nd] 32\n",
       "\\item[3rd] 48\n",
       "\\item[4th] 64\n",
       "\\end{description*}\n"
      ],
      "text/markdown": [
       "1st\n",
       ":   402nd\n",
       ":   323rd\n",
       ":   484th\n",
       ":   64\n",
       "\n"
      ],
      "text/plain": [
       "1st 2nd 3rd 4th \n",
       " 40  32  48  64 "
      ]
     },
     "metadata": {},
     "output_type": "display_data"
    }
   ],
   "source": [
    "print(\"List Before Modification\")\n",
    "list\n",
    "#Assign Names to Vector elements\n",
    "names(list) = c(\"1st\",\"2nd\",\"3rd\",\"4th\") #use the previous vector(list)\n",
    "print(\"List after assigning names:\")\n",
    "list\n",
    "\n",
    "#Modify Element Value using Name assigned\n",
    "list[\"1st\"] <- 10\n",
    "print(\"List after changing 1st value:\")\n",
    "list\n",
    "#Modify all values of Vector with arithmetic operation\n",
    "print(\"List after Arithmetic Operation:\")\n",
    "list <- list*4\n",
    "list"
   ]
  },
  {
   "cell_type": "markdown",
   "metadata": {},
   "source": [
    "#### Basic Arithmetic and Boolean Expressions:"
   ]
  },
  {
   "cell_type": "code",
   "execution_count": 10,
   "metadata": {
    "collapsed": true
   },
   "outputs": [
    {
     "data": {
      "text/html": [
       "2"
      ],
      "text/latex": [
       "2"
      ],
      "text/markdown": [
       "2"
      ],
      "text/plain": [
       "[1] 2"
      ]
     },
     "metadata": {},
     "output_type": "display_data"
    },
    {
     "data": {
      "text/html": [
       "8"
      ],
      "text/latex": [
       "8"
      ],
      "text/markdown": [
       "8"
      ],
      "text/plain": [
       "[1] 8"
      ]
     },
     "metadata": {},
     "output_type": "display_data"
    },
    {
     "data": {
      "text/html": [
       "6"
      ],
      "text/latex": [
       "6"
      ],
      "text/markdown": [
       "6"
      ],
      "text/plain": [
       "[1] 6"
      ]
     },
     "metadata": {},
     "output_type": "display_data"
    },
    {
     "data": {
      "text/html": [
       "2"
      ],
      "text/latex": [
       "2"
      ],
      "text/markdown": [
       "2"
      ],
      "text/plain": [
       "[1] 2"
      ]
     },
     "metadata": {},
     "output_type": "display_data"
    },
    {
     "data": {
      "text/html": [
       "16"
      ],
      "text/latex": [
       "16"
      ],
      "text/markdown": [
       "16"
      ],
      "text/plain": [
       "[1] 16"
      ]
     },
     "metadata": {},
     "output_type": "display_data"
    }
   ],
   "source": [
    "4/2            #division Operation\n",
    "4*2            #multiplication Operation\n",
    "4+2            #addition Operation\n",
    "4-2            #subtraction Operation\n",
    "4^2            #Power Operation"
   ]
  },
  {
   "cell_type": "code",
   "execution_count": 14,
   "metadata": {
    "collapsed": false
   },
   "outputs": [
    {
     "data": {
      "text/html": [
       "FALSE"
      ],
      "text/latex": [
       "FALSE"
      ],
      "text/markdown": [
       "FALSE"
      ],
      "text/plain": [
       "[1] FALSE"
      ]
     },
     "metadata": {},
     "output_type": "display_data"
    },
    {
     "data": {
      "text/html": [
       "TRUE"
      ],
      "text/latex": [
       "TRUE"
      ],
      "text/markdown": [
       "TRUE"
      ],
      "text/plain": [
       "[1] TRUE"
      ]
     },
     "metadata": {},
     "output_type": "display_data"
    },
    {
     "data": {
      "text/html": [
       "TRUE"
      ],
      "text/latex": [
       "TRUE"
      ],
      "text/markdown": [
       "TRUE"
      ],
      "text/plain": [
       "[1] TRUE"
      ]
     },
     "metadata": {},
     "output_type": "display_data"
    },
    {
     "data": {
      "text/html": [
       "FALSE"
      ],
      "text/latex": [
       "FALSE"
      ],
      "text/markdown": [
       "FALSE"
      ],
      "text/plain": [
       "[1] FALSE"
      ]
     },
     "metadata": {},
     "output_type": "display_data"
    },
    {
     "data": {
      "text/html": [
       "TRUE"
      ],
      "text/latex": [
       "TRUE"
      ],
      "text/markdown": [
       "TRUE"
      ],
      "text/plain": [
       "[1] TRUE"
      ]
     },
     "metadata": {},
     "output_type": "display_data"
    }
   ],
   "source": [
    "#Basic Boolean Comparisons\n",
    "4 == 2\n",
    "(2+2) == 4\n",
    "T == TRUE\n",
    "T && F\n",
    "F || TRUE"
   ]
  },
  {
   "cell_type": "markdown",
   "metadata": {},
   "source": [
    "#### List Visualization Tools and Capabilities with R graphics."
   ]
  },
  {
   "cell_type": "code",
   "execution_count": 25,
   "metadata": {
    "collapsed": true
   },
   "outputs": [
    {
     "name": "stdout",
     "output_type": "stream",
     "text": [
      "\n",
      "\n",
      "\tdemo(graphics)\n",
      "\t---- ~~~~~~~~\n",
      "\n",
      "> #  Copyright (C) 1997-2009 The R Core Team\n",
      "> \n",
      "> require(datasets)\n",
      "\n",
      "> require(grDevices); require(graphics)\n",
      "\n",
      "> ## Here is some code which illustrates some of the differences between\n",
      "> ## R and S graphics capabilities.  Note that colors are generally specified\n",
      "> ## by a character string name (taken from the X11 rgb.txt file) and that line\n",
      "> ## textures are given similarly.  The parameter \"bg\" sets the background\n",
      "> ## parameter for the plot and there is also an \"fg\" parameter which sets\n",
      "> ## the foreground color.\n",
      "> \n",
      "> \n",
      "> x <- stats::rnorm(50)\n",
      "\n",
      "> opar <- par(bg = \"white\")\n",
      "\n",
      "> plot(x, ann = FALSE, type = \"n\")\n",
      "\n",
      "> abline(h = 0, col = gray(.90))\n",
      "\n",
      "> lines(x, col = \"green4\", lty = \"dotted\")\n",
      "\n",
      "> points(x, bg = \"limegreen\", pch = 21)\n",
      "\n",
      "> title(main = \"Simple Use of Color In a Plot\",\n",
      "+       xlab = \"Just a Whisper of a Label\",\n",
      "+       col.main = \"blue\", col.lab = gray(.8),\n",
      "+       cex.main = 1.2, cex.lab = 1.0, font.main = 4, font.lab = 3)\n",
      "\n",
      "> ## A little color wheel.\t This code just plots equally spaced hues in\n",
      "> ## a pie chart.\tIf you have a cheap SVGA monitor (like me) you will\n",
      "> ## probably find that numerically equispaced does not mean visually\n",
      "> ## equispaced.  On my display at home, these colors tend to cluster at\n",
      "> ## the RGB primaries.  On the other hand on the SGI Indy at work the\n",
      "> ## effect is near perfect.\n",
      "> \n",
      "> par(bg = \"gray\")\n",
      "\n",
      "> pie(rep(1,24), col = rainbow(24), radius = 0.9)\n"
     ]
    },
    {
     "data": {
      "image/png": "[encoded data removed]",
      "text/plain": [
       "Plot with title \"Simple Use of Color In a Plot\""
      ]
     },
     "metadata": {},
     "output_type": "display_data"
    },
    {
     "name": "stdout",
     "output_type": "stream",
     "text": [
      "\n",
      "> title(main = \"A Sample Color Wheel\", cex.main = 1.4, font.main = 3)\n",
      "\n",
      "> title(xlab = \"(Use this as a test of monitor linearity)\",\n",
      "+       cex.lab = 0.8, font.lab = 3)\n",
      "\n",
      "> ## We have already confessed to having these.  This is just showing off X11\n",
      "> ## color names (and the example (from the postscript manual) is pretty \"cute\".\n",
      "> \n",
      "> pie.sales <- c(0.12, 0.3, 0.26, 0.16, 0.04, 0.12)\n",
      "\n",
      "> names(pie.sales) <- c(\"Blueberry\", \"Cherry\",\n",
      "+ \t\t      \"Apple\", \"Boston Cream\", \"Other\", \"Vanilla Cream\")\n",
      "\n",
      "> pie(pie.sales,\n",
      "+     col = c(\"purple\",\"violetred1\",\"green3\",\"cornsilk\",\"cyan\",\"white\"))\n"
     ]
    },
    {
     "data": {
      "image/png": "[encoded data removed]",
      "text/plain": [
       "Plot with title \"A Sample Color Wheel\""
      ]
     },
     "metadata": {},
     "output_type": "display_data"
    },
    {
     "name": "stdout",
     "output_type": "stream",
     "text": [
      "\n",
      "> title(main = \"January Pie Sales\", cex.main = 1.8, font.main = 1)\n",
      "\n",
      "> title(xlab = \"(Don't try this at home kids)\", cex.lab = 0.8, font.lab = 3)\n",
      "\n",
      "> ## Boxplots:  I couldn't resist the capability for filling the \"box\".\n",
      "> ## The use of color seems like a useful addition, it focuses attention\n",
      "> ## on the central bulk of the data.\n",
      "> \n",
      "> par(bg=\"cornsilk\")\n",
      "\n",
      "> n <- 10\n",
      "\n",
      "> g <- gl(n, 100, n*100)\n",
      "\n",
      "> x <- rnorm(n*100) + sqrt(as.numeric(g))\n",
      "\n",
      "> boxplot(split(x,g), col=\"lavender\", notch=TRUE)\n"
     ]
    },
    {
     "data": {
      "image/png": "[encoded data removed]",
      "text/plain": [
       "Plot with title \"January Pie Sales\""
      ]
     },
     "metadata": {},
     "output_type": "display_data"
    },
    {
     "name": "stdout",
     "output_type": "stream",
     "text": [
      "\n",
      "> title(main=\"Notched Boxplots\", xlab=\"Group\", font.main=4, font.lab=1)\n",
      "\n",
      "> ## An example showing how to fill between curves.\n",
      "> \n",
      "> par(bg=\"white\")\n",
      "\n",
      "> n <- 100\n",
      "\n",
      "> x <- c(0,cumsum(rnorm(n)))\n",
      "\n",
      "> y <- c(0,cumsum(rnorm(n)))\n",
      "\n",
      "> xx <- c(0:n, n:0)\n",
      "\n",
      "> yy <- c(x, rev(y))\n",
      "\n",
      "> plot(xx, yy, type=\"n\", xlab=\"Time\", ylab=\"Distance\")\n"
     ]
    },
    {
     "data": {
      "image/png": "[encoded data removed]",
      "text/plain": [
       "Plot with title \"Notched Boxplots\""
      ]
     },
     "metadata": {},
     "output_type": "display_data"
    },
    {
     "name": "stdout",
     "output_type": "stream",
     "text": [
      "\n",
      "> polygon(xx, yy, col=\"gray\")\n",
      "\n",
      "> title(\"Distance Between Brownian Motions\")\n",
      "\n",
      "> ## Colored plot margins, axis labels and titles.\t You do need to be\n",
      "> ## careful with these kinds of effects.\tIt's easy to go completely\n",
      "> ## over the top and you can end up with your lunch all over the keyboard.\n",
      "> ## On the other hand, my market research clients love it.\n",
      "> \n",
      "> x <- c(0.00, 0.40, 0.86, 0.85, 0.69, 0.48, 0.54, 1.09, 1.11, 1.73, 2.05, 2.02)\n",
      "\n",
      "> par(bg=\"lightgray\")\n",
      "\n",
      "> plot(x, type=\"n\", axes=FALSE, ann=FALSE)\n"
     ]
    },
    {
     "data": {
      "image/png": "[encoded data removed]",
      "text/plain": [
       "Plot with title \"Distance Between Brownian Motions\""
      ]
     },
     "metadata": {},
     "output_type": "display_data"
    },
    {
     "name": "stdout",
     "output_type": "stream",
     "text": [
      "\n",
      "> usr <- par(\"usr\")\n",
      "\n",
      "> rect(usr[1], usr[3], usr[2], usr[4], col=\"cornsilk\", border=\"black\")\n",
      "\n",
      "> lines(x, col=\"blue\")\n",
      "\n",
      "> points(x, pch=21, bg=\"lightcyan\", cex=1.25)\n",
      "\n",
      "> axis(2, col.axis=\"blue\", las=1)\n",
      "\n",
      "> axis(1, at=1:12, lab=month.abb, col.axis=\"blue\")\n",
      "\n",
      "> box()\n",
      "\n",
      "> title(main= \"The Level of Interest in R\", font.main=4, col.main=\"red\")\n",
      "\n",
      "> title(xlab= \"1996\", col.lab=\"red\")\n",
      "\n",
      "> ## A filled histogram, showing how to change the font used for the\n",
      "> ## main title without changing the other annotation.\n",
      "> \n",
      "> par(bg=\"cornsilk\")\n",
      "\n",
      "> x <- rnorm(1000)\n",
      "\n",
      "> hist(x, xlim=range(-4, 4, x), col=\"lavender\", main=\"\")\n"
     ]
    },
    {
     "data": {
      "image/png": "[encoded data removed]",
      "text/plain": [
       "Plot with title \"The Level of Interest in R\""
      ]
     },
     "metadata": {},
     "output_type": "display_data"
    },
    {
     "name": "stdout",
     "output_type": "stream",
     "text": [
      "\n",
      "> title(main=\"1000 Normal Random Variates\", font.main=3)\n",
      "\n",
      "> ## A scatterplot matrix\n",
      "> ## The good old Iris data (yet again)\n",
      "> \n",
      "> pairs(iris[1:4], main=\"Edgar Anderson's Iris Data\", font.main=4, pch=19)\n"
     ]
    },
    {
     "data": {
      "image/png": "[encoded data removed]",
      "text/plain": [
       "Plot with title \"1000 Normal Random Variates\""
      ]
     },
     "metadata": {},
     "output_type": "display_data"
    },
    {
     "name": "stdout",
     "output_type": "stream",
     "text": [
      "\n",
      "> pairs(iris[1:4], main=\"Edgar Anderson's Iris Data\", pch=21,\n",
      "+       bg = c(\"red\", \"green3\", \"blue\")[unclass(iris$Species)])\n"
     ]
    },
    {
     "data": {
      "image/png": "[encoded data removed]",
      "text/plain": [
       "plot without title"
      ]
     },
     "metadata": {},
     "output_type": "display_data"
    },
    {
     "name": "stdout",
     "output_type": "stream",
     "text": [
      "\n",
      "> ## Contour plotting\n",
      "> ## This produces a topographic map of one of Auckland's many volcanic \"peaks\".\n",
      "> \n",
      "> x <- 10*1:nrow(volcano)\n",
      "\n",
      "> y <- 10*1:ncol(volcano)\n",
      "\n",
      "> lev <- pretty(range(volcano), 10)\n",
      "\n",
      "> par(bg = \"lightcyan\")\n",
      "\n",
      "> pin <- par(\"pin\")\n",
      "\n",
      "> xdelta <- diff(range(x))\n",
      "\n",
      "> ydelta <- diff(range(y))\n",
      "\n",
      "> xscale <- pin[1]/xdelta\n",
      "\n",
      "> yscale <- pin[2]/ydelta\n",
      "\n",
      "> scale <- min(xscale, yscale)\n",
      "\n",
      "> xadd <- 0.5*(pin[1]/scale - xdelta)\n",
      "\n",
      "> yadd <- 0.5*(pin[2]/scale - ydelta)\n",
      "\n",
      "> plot(numeric(0), numeric(0),\n",
      "+      xlim = range(x)+c(-1,1)*xadd, ylim = range(y)+c(-1,1)*yadd,\n",
      "+      type = \"n\", ann = FALSE)\n"
     ]
    },
    {
     "data": {
      "image/png": "[encoded data removed]",
      "text/plain": [
       "plot without title"
      ]
     },
     "metadata": {},
     "output_type": "display_data"
    },
    {
     "name": "stdout",
     "output_type": "stream",
     "text": [
      "\n",
      "> usr <- par(\"usr\")\n",
      "\n",
      "> rect(usr[1], usr[3], usr[2], usr[4], col=\"green3\")\n",
      "\n",
      "> contour(x, y, volcano, levels = lev, col=\"yellow\", lty=\"solid\", add=TRUE)\n",
      "\n",
      "> box()\n",
      "\n",
      "> title(\"A Topographic Map of Maunga Whau\", font= 4)\n",
      "\n",
      "> title(xlab = \"Meters North\", ylab = \"Meters West\", font= 3)\n",
      "\n",
      "> mtext(\"10 Meter Contour Spacing\", side=3, line=0.35, outer=FALSE,\n",
      "+       at = mean(par(\"usr\")[1:2]), cex=0.7, font=3)\n",
      "\n",
      "> ## Conditioning plots\n",
      "> \n",
      "> par(bg=\"cornsilk\")\n",
      "\n",
      "> coplot(lat ~ long | depth, data = quakes, pch = 21, bg = \"green3\")\n"
     ]
    },
    {
     "data": {
      "image/png": "[encoded data removed]",
      "text/plain": [
       "Plot with title \"A Topographic Map of Maunga Whau\""
      ]
     },
     "metadata": {},
     "output_type": "display_data"
    },
    {
     "name": "stdout",
     "output_type": "stream",
     "text": [
      "\n",
      "> par(opar)\n"
     ]
    },
    {
     "data": {
      "image/png": "[encoded data removed]",
      "text/plain": [
       "plot without title"
      ]
     },
     "metadata": {},
     "output_type": "display_data"
    }
   ],
   "source": [
    "\n",
    "demo(graphics)"
   ]
  },
  {
   "cell_type": "code",
   "execution_count": 27,
   "metadata": {
    "collapsed": true
   },
   "outputs": [
    {
     "data": {
      "image/png": "[encoded data removed]",
      "text/plain": [
       "Plot with title \"Sales by Month\""
      ]
     },
     "metadata": {},
     "output_type": "display_data"
    }
   ],
   "source": [
    "#Line Graphs - Example\n",
    "\n",
    "sales1<-c(12,14,16,29,30,45,19,20,16, 19, 34, 20)\n",
    "sales2<-rpois(12,34)  # random numbers, Poisson distribution, mean at 34, 12 numbers\n",
    "par(bg=\"cornsilk\")\n",
    "\n",
    "plot(sales1, col=\"blue\", type=\"o\", ylim=c(0,100), xlab=\"Month\", ylab=\"Sales\" )\n",
    "title(main=\"Sales by Month\")\n",
    "\n",
    "lines(sales2, type=\"o\", pch=22, lty=2, col=\"red\")\n",
    "grid(nx=NA, ny=NULL)\n",
    "legend(\"topright\", inset=.05, c(\"Sales1\",\"Sales2\"), fill=c(\"blue\",\"red\"), horiz=TRUE)\n"
   ]
  },
  {
   "cell_type": "markdown",
   "metadata": {},
   "source": [
    "## Twitter basic Functionalities"
   ]
  },
  {
   "cell_type": "code",
   "execution_count": 38,
   "metadata": {
    "collapsed": true
   },
   "outputs": [
    {
     "name": "stderr",
     "output_type": "stream",
     "text": [
      "Loading required package: ggplot2\n",
      "Loading required package: sp\n",
      "Checking rgeos availability: TRUE\n",
      "\n",
      "Attaching package: 'plyr'\n",
      "\n",
      "The following object is masked from 'package:twitteR':\n",
      "\n",
      "    id\n",
      "\n",
      "The following object is masked from 'package:maps':\n",
      "\n",
      "    ozone\n",
      "\n",
      "\n",
      "Attaching package: 'dplyr'\n",
      "\n",
      "The following objects are masked from 'package:plyr':\n",
      "\n",
      "    arrange, count, desc, failwith, id, mutate, rename, summarise,\n",
      "    summarize\n",
      "\n",
      "The following objects are masked from 'package:twitteR':\n",
      "\n",
      "    id, location\n",
      "\n",
      "The following objects are masked from 'package:stats':\n",
      "\n",
      "    filter, lag\n",
      "\n",
      "The following objects are masked from 'package:base':\n",
      "\n",
      "    intersect, setdiff, setequal, union\n",
      "\n"
     ]
    }
   ],
   "source": [
    "#Import necessary Libraries\n",
    "\n",
    "library(\"ggmap\")\n",
    "library(maptools)\n",
    "library(maps)\n",
    "library(twitteR)\n",
    "library(maps)\n",
    "library(maptools)\n",
    "library(plyr)\n",
    "library(dplyr)"
   ]
  },
  {
   "cell_type": "code",
   "execution_count": 39,
   "metadata": {
    "collapsed": false
   },
   "outputs": [
    {
     "name": "stdout",
     "output_type": "stream",
     "text": [
      "[1] \"Using direct authentication\"\n"
     ]
    }
   ],
   "source": [
    "#Oauth - Twitter Authentication Setup\n",
    "setup_twitter_oauth('', '', '', '')"
   ]
  },
  {
   "cell_type": "code",
   "execution_count": 42,
   "metadata": {
    "collapsed": true
   },
   "outputs": [
    {
     "data": {
      "text/plain": [
       "[[1]]\n",
       "[1] \"lizcastro: RT @KommunikaCat: 1000e demonstrieren in #Barcelona #Katalonien f. Aufnahme von Flüchtlingen @lessentielde @focus_europa @Institut_IRE #ref",
       "\"\n",
       "\n",
       "[[2]]\n",
       "[1] \"migrantslives: RT @Chara_fc: Thousands in #Barcelona urge #Spain's govt to take in more #refugees who have fled war in #Syria+other violent conflicts,@AP-",
       "\"\n",
       "\n",
       "[[3]]\n",
       "[1] \"OpFabra: #madrid #españa #sociedad  #opfabra #valencia  #nwo #castellon #barcelona #justicia #barespaña https://t.co/sIsrjzBkSu\"\n",
       "\n",
       "[[4]]\n",
       "[1] \"QueenMandjago: RT @watchingyou81: #Barcelona #Demonstration #Geflüchtete #NoH8\\n\\\"Eine Demonstration der besonderen Art gab es am Samstag in der... https://",
       "\"\n",
       "\n",
       "[[5]]\n",
       "[1] \"Inyaki9Barris: Vaixell de rescat #refugiats platja #Barceloneta #ProuExcuses #VolemAcollir #AcollimAra #Barcelona #BCN... https://t.co/rl75jJ3ui8\"\n",
       "\n",
       "[[6]]\n",
       "[1] \"Inyaki9Barris: Vaixell de rescat #refugiats platja #Barceloneta #ProuExcuses #VolemAcollir #AcollimAra #Barcelona #BCN",
       " https://t.co/sh26Me6MzD\"\n"
      ]
     },
     "metadata": {},
     "output_type": "display_data"
    }
   ],
   "source": [
    "#Search tweets using searchTwitter function\n",
    "searchQuery <- \"#Barcelona\"\n",
    "searchTweets <- searchTwitter(searchQuery,n=1000)\n",
    "head(searchTweets)"
   ]
  },
  {
   "cell_type": "code",
   "execution_count": 43,
   "metadata": {
    "collapsed": true
   },
   "outputs": [
    {
     "data": {
      "text/plain": [
       "[[1]]\n",
       "[1] \"OpFabra: #madrid #españa #sociedad  #opfabra #valencia  #nwo #castellon #barcelona #justicia #barespaña https://t.co/sIsrjzBkSu\"\n",
       "\n",
       "[[2]]\n",
       "[1] \"Inyaki9Barris: Vaixell de rescat #refugiats platja #Barceloneta #ProuExcuses #VolemAcollir #AcollimAra #Barcelona #BCN... https://t.co/rl75jJ3ui8\"\n",
       "\n",
       "[[3]]\n",
       "[1] \"Inyaki9Barris: Vaixell de rescat #refugiats platja #Barceloneta #ProuExcuses #VolemAcollir #AcollimAra #Barcelona #BCN",
       " https://t.co/sh26Me6MzD\"\n",
       "\n",
       "[[4]]\n",
       "[1] \"fromdesktildawn: Sorting holidays for this year. Sticking to Europe while I can still celebrate being part of it. #Barcelona #Berlin #Paris\"\n",
       "\n",
       "[[5]]\n",
       "[1] \"anunciorelaxbcn: Vingui a descobrir el plaer dels sentits a thai center https://t.co/bk5zrI2yg2\\n #Masajes #Barcelona https://t.co/OPQcBARWX7\"\n",
       "\n",
       "[[6]]\n",
       "[1] \"BarFlaTour: https://t.co/8rrPdgnaYy  <U+30B0><U+30EB><U+30FC><U+30D7>Tacon&amp;Pon! Grupo Tacon&amp;Pon! #flamenco #tacon&amp;pon #Barcelona #evento #show #<U+30D0><U+30EB><U+30BB><U+30ED><U+30CA> #<U+821E><U+8E0A><U+5BB6> #<U+30D5><U+30E9><U+30E1><U+30F3><U+30B3>\"\n"
      ]
     },
     "metadata": {},
     "output_type": "display_data"
    }
   ],
   "source": [
    "#Remove Re-tweets\n",
    "head(strip_retweets(searchTweets, strip_manual=TRUE, strip_mt=TRUE))"
   ]
  },
  {
   "cell_type": "code",
   "execution_count": 46,
   "metadata": {
    "collapsed": false
   },
   "outputs": [
    {
     "name": "stdout",
     "output_type": "stream",
     "text": [
      "[1] \"User Description:\"\n"
     ]
    },
    {
     "data": {
      "text/html": [
       "'The official twitter account of Team Messi - a global fan movement founded by adidas to celebrate everything Messi.'"
      ],
      "text/latex": [
       "'The official twitter account of Team Messi - a global fan movement founded by adidas to celebrate everything Messi.'"
      ],
      "text/markdown": [
       "'The official twitter account of Team Messi - a global fan movement founded by adidas to celebrate everything Messi.'"
      ],
      "text/plain": [
       "[1] \"The official twitter account of Team Messi - a global fan movement founded by adidas to celebrate everything Messi.\""
      ]
     },
     "metadata": {},
     "output_type": "display_data"
    },
    {
     "name": "stdout",
     "output_type": "stream",
     "text": [
      "[1] \"User Followers Count:\"\n"
     ]
    },
    {
     "data": {
      "text/html": [
       "1895892"
      ],
      "text/latex": [
       "1895892"
      ],
      "text/markdown": [
       "1895892"
      ],
      "text/plain": [
       "[1] 1895892"
      ]
     },
     "metadata": {},
     "output_type": "display_data"
    },
    {
     "name": "stdout",
     "output_type": "stream",
     "text": [
      "[1] \"User get Friends (top 5)\"\n"
     ]
    },
    {
     "data": {
      "text/plain": [
       "$`885222182`\n",
       "[1] \"BA_Yildirim\"\n",
       "\n",
       "$`1636965600`\n",
       "[1] \"sebomubu\"\n",
       "\n",
       "$`2789981422`\n",
       "[1] \"komikanya\"\n",
       "\n",
       "$`80703539`\n",
       "[1] \"mesutcemil\"\n",
       "\n",
       "$`4625428821`\n",
       "[1] \"glsnayldz\"\n"
      ]
     },
     "metadata": {},
     "output_type": "display_data"
    },
    {
     "name": "stdout",
     "output_type": "stream",
     "text": [
      "[1] \"User Favorites (top 5)\"\n"
     ]
    },
    {
     "data": {
      "text/plain": [
       "[[1]]\n",
       "[1] \"Facuzavala14: Soñé que conocía a Messi, me firmaba un autografo y me sacaba una foto con él...no me quería despertar más del sueño <ed><U+00A0><U+00BD><ed><U+00B8><U+008D><ed><U+00A0><U+00BD><ed><U+00B8><U+008D><ed><U+00A0><U+00BD><ed><U+00B8><U+00A2>. \\n@TeamMessi\"\n",
       "\n",
       "[[2]]\n",
       "[1] \"gorila3DEDOS: @TeamMessi https://t.co/MP2PFRST5s\"\n",
       "\n",
       "[[3]]\n",
       "[1] \"shandarsamia: @TeamMessi good luck #Messi16.\\ngo ! create  history .<U+2764>\"\n",
       "\n",
       "[[4]]\n",
       "[1] \"SenseiKumiko: @TeamMessi ¡ Dale Leo Messi! #VamosArgentina <ed><U+00A0><U+00BD><ed><U+00B2><U+0099><U+2600><ed><U+00A0><U+00BD><ed><U+00B2><U+0099> <ed><U+00A0><U+00BD><ed><U+00B1><U+008F><ed><U+00A0><U+00BD><ed><U+00B8><U+008D> \\n\\n#CopaAmerica https://t.co/ADhz0ZsOJK\"\n",
       "\n",
       "[[5]]\n",
       "[1] \"Qiii6ii: @TeamMessi vamos Leo\"\n"
      ]
     },
     "metadata": {},
     "output_type": "display_data"
    }
   ],
   "source": [
    "#Get a specific User using getUser function and retrieve user data\n",
    "User <- getUser('TeamMessi')\n",
    "print(\"User Description:\")\n",
    "User$getDescription()\n",
    "print(\"User Followers Count:\")\n",
    "User$getFollowersCount()\n",
    "print(\"User get Friends (top 5)\")\n",
    "User$getFriends(n=5)\n",
    "print(\"User Favorites (top 5)\")\n",
    "User$getFavorites(n=5)"
   ]
  },
  {
   "cell_type": "code",
   "execution_count": 47,
   "metadata": {
    "collapsed": true
   },
   "outputs": [
    {
     "data": {
      "text/html": [
       "<table>\n",
       "<thead><tr><th scope=col>text</th><th scope=col>favorited</th><th scope=col>favoriteCount</th><th scope=col>replyToSN</th><th scope=col>created</th><th scope=col>truncated</th><th scope=col>replyToSID</th><th scope=col>id</th><th scope=col>replyToUID</th><th scope=col>statusSource</th><th scope=col>screenName</th><th scope=col>retweetCount</th><th scope=col>isRetweet</th><th scope=col>retweeted</th><th scope=col>longitude</th><th scope=col>latitude</th></tr></thead>\n",
       "<tbody>\n",
       "\t<tr><td>RT @KommunikaCat: 1000e demonstrieren in #Barcelona #Katalonien f. Aufnahme von Flüchtlingen @lessentielde @focus_europa @Institut_IRE #ref… </td><td>FALSE                                                                                                                                        </td><td>0                                                                                                                                            </td><td>NA                                                                                                                                           </td><td>2017-02-18 18:11:29                                                                                                                          </td><td>FALSE                                                                                                                                        </td><td>NA                                                                                                                                           </td><td>833016100732420096                                                                                                                           </td><td>NA                                                                                                                                           </td><td><span style=white-space:pre-wrap>&lt;a href=\"http://twitter.com/download/iphone\" rel=\"nofollow\"&gt;Twitter for iPhone&lt;/a&gt;  </span>     </td><td><span style=white-space:pre-wrap>lizcastro    </span>                                                                                        </td><td>13                                                                                                                                           </td><td> TRUE                                                                                                                                        </td><td>FALSE                                                                                                                                        </td><td>NA                                                                                                                                           </td><td>NA                                                                                                                                           </td></tr>\n",
       "\t<tr><td>RT @Chara_fc: Thousands in #Barcelona urge #Spain's govt to take in more #refugees who have fled war in #Syria+other violent conflicts,@AP-… </td><td>FALSE                                                                                                                                        </td><td>0                                                                                                                                            </td><td>NA                                                                                                                                           </td><td>2017-02-18 18:11:27                                                                                                                          </td><td>FALSE                                                                                                                                        </td><td>NA                                                                                                                                           </td><td>833016090187939840                                                                                                                           </td><td>NA                                                                                                                                           </td><td><span style=white-space:pre-wrap>&lt;a href=\"https://roundteam.co\" rel=\"nofollow\"&gt;RoundTeam&lt;/a&gt;                         </span>     </td><td>migrantslives                                                                                                                                </td><td> 2                                                                                                                                           </td><td> TRUE                                                                                                                                        </td><td>FALSE                                                                                                                                        </td><td>NA                                                                                                                                           </td><td>NA                                                                                                                                           </td></tr>\n",
       "\t<tr><td><span style=white-space:pre-wrap>#madrid #españa #sociedad  #opfabra #valencia  #nwo #castellon #barcelona #justicia #barespaña https://t.co/sIsrjzBkSu                       </span></td><td>FALSE                                                                                                                                                                                </td><td>0                                                                                                                                                                                    </td><td>NA                                                                                                                                                                                   </td><td>2017-02-18 18:11:27                                                                                                                                                                  </td><td>FALSE                                                                                                                                                                                </td><td>NA                                                                                                                                                                                   </td><td>833016089277767683                                                                                                                                                                   </td><td>NA                                                                                                                                                                                   </td><td><span style=white-space:pre-wrap>&lt;a href=\"http://www.botize.com\" rel=\"nofollow\"&gt;Botize&lt;/a&gt;                           </span>                                             </td><td><span style=white-space:pre-wrap>OpFabra      </span>                                                                                                                                </td><td> 0                                                                                                                                                                                   </td><td>FALSE                                                                                                                                                                                </td><td>FALSE                                                                                                                                                                                </td><td>NA                                                                                                                                                                                   </td><td>NA                                                                                                                                                                                   </td></tr>\n",
       "\t<tr><td>RT @watchingyou81: #Barcelona #Demonstration #Geflüchtete #NoH8\n",
       "\"Eine Demonstration der besonderen Art gab es am Samstag in der... https://…</td><td>FALSE                                                                                                                                        </td><td>0                                                                                                                                            </td><td>NA                                                                                                                                           </td><td>2017-02-18 18:11:17                                                                                                                          </td><td>FALSE                                                                                                                                        </td><td>NA                                                                                                                                           </td><td>833016047850684417                                                                                                                           </td><td>NA                                                                                                                                           </td><td><span style=white-space:pre-wrap>&lt;a href=\"http://twitter.com/download/iphone\" rel=\"nofollow\"&gt;Twitter for iPhone&lt;/a&gt;  </span>     </td><td>QueenMandjago                                                                                                                                </td><td> 3                                                                                                                                           </td><td> TRUE                                                                                                                                        </td><td>FALSE                                                                                                                                        </td><td>NA                                                                                                                                           </td><td>NA                                                                                                                                           </td></tr>\n",
       "\t<tr><td><span style=white-space:pre-wrap>Vaixell de rescat #refugiats platja #Barceloneta #ProuExcuses #VolemAcollir #AcollimAra #Barcelona #BCN... https://t.co/rl75jJ3ui8           </span></td><td>FALSE                                                                                                                                                                                </td><td>0                                                                                                                                                                                    </td><td>NA                                                                                                                                                                                   </td><td>2017-02-18 18:11:14                                                                                                                                                                  </td><td>FALSE                                                                                                                                                                                </td><td>NA                                                                                                                                                                                   </td><td>833016038383947777                                                                                                                                                                   </td><td>NA                                                                                                                                                                                   </td><td><span style=white-space:pre-wrap>&lt;a href=\"http://www.facebook.com/twitter\" rel=\"nofollow\"&gt;Facebook&lt;/a&gt;               </span>                                             </td><td>Inyaki9Barris                                                                                                                                                                        </td><td> 0                                                                                                                                                                                   </td><td>FALSE                                                                                                                                                                                </td><td>FALSE                                                                                                                                                                                </td><td>NA                                                                                                                                                                                   </td><td>NA                                                                                                                                                                                   </td></tr>\n",
       "\t<tr><td><span style=white-space:pre-wrap>Vaixell de rescat #refugiats platja #Barceloneta #ProuExcuses #VolemAcollir #AcollimAra #Barcelona #BCN… https://t.co/sh26Me6MzD             </span></td><td>FALSE                                                                                                                                                                                </td><td>0                                                                                                                                                                                    </td><td>NA                                                                                                                                                                                   </td><td>2017-02-18 18:11:08                                                                                                                                                                  </td><td> TRUE                                                                                                                                                                                </td><td>NA                                                                                                                                                                                   </td><td>833016012874346496                                                                                                                                                                   </td><td>NA                                                                                                                                                                                   </td><td>&lt;a href=\"http://twitter.com/download/android\" rel=\"nofollow\"&gt;Twitter for Android&lt;/a&gt;                                                                                     </td><td>Inyaki9Barris                                                                                                                                                                        </td><td> 0                                                                                                                                                                                   </td><td>FALSE                                                                                                                                                                                </td><td>FALSE                                                                                                                                                                                </td><td>NA                                                                                                                                                                                   </td><td>NA                                                                                                                                                                                   </td></tr>\n",
       "</tbody>\n",
       "</table>\n"
      ],
      "text/latex": [
       "\\begin{tabular}{r|llllllllllllllll}\n",
       " text & favorited & favoriteCount & replyToSN & created & truncated & replyToSID & id & replyToUID & statusSource & screenName & retweetCount & isRetweet & retweeted & longitude & latitude\\\\\n",
       "\\hline\n",
       "\t RT @KommunikaCat: 1000e demonstrieren in \\#Barcelona \\#Katalonien f. Aufnahme von Flüchtlingen @lessentielde @focus\\_europa @Institut\\_IRE \\#ref…  & FALSE                                                                                                                                                   & 0                                                                                                                                                       & NA                                                                                                                                                      & 2017-02-18 18:11:29                                                                                                                                     & FALSE                                                                                                                                                   & NA                                                                                                                                                      & 833016100732420096                                                                                                                                      & NA                                                                                                                                                      & <a href=\"http://twitter.com/download/iphone\" rel=\"nofollow\">Twitter for iPhone</a>                                                                      & lizcastro                                                                                                                                               & 13                                                                                                                                                      &  TRUE                                                                                                                                                   & FALSE                                                                                                                                                   & NA                                                                                                                                                      & NA                                                                                                                                                     \\\\\n",
       "\t RT @Chara\\_fc: Thousands in \\#Barcelona urge \\#Spain's govt to take in more \\#refugees who have fled war in \\#Syria+other violent conflicts,@AP-…  & FALSE                                                                                                                                                   & 0                                                                                                                                                       & NA                                                                                                                                                      & 2017-02-18 18:11:27                                                                                                                                     & FALSE                                                                                                                                                   & NA                                                                                                                                                      & 833016090187939840                                                                                                                                      & NA                                                                                                                                                      & <a href=\"https://roundteam.co\" rel=\"nofollow\">RoundTeam</a>                                                                                             & migrantslives                                                                                                                                           &  2                                                                                                                                                      &  TRUE                                                                                                                                                   & FALSE                                                                                                                                                   & NA                                                                                                                                                      & NA                                                                                                                                                     \\\\\n",
       "\t \\#madrid \\#españa \\#sociedad  \\#opfabra \\#valencia  \\#nwo \\#castellon \\#barcelona \\#justicia \\#barespaña https://t.co/sIsrjzBkSu                        & FALSE                                                                                                                                                             & 0                                                                                                                                                                 & NA                                                                                                                                                                & 2017-02-18 18:11:27                                                                                                                                               & FALSE                                                                                                                                                             & NA                                                                                                                                                                & 833016089277767683                                                                                                                                                & NA                                                                                                                                                                & <a href=\"http://www.botize.com\" rel=\"nofollow\">Botize</a>                                                                                                         & OpFabra                                                                                                                                                           &  0                                                                                                                                                                & FALSE                                                                                                                                                             & FALSE                                                                                                                                                             & NA                                                                                                                                                                & NA                                                                                                                                                               \\\\\n",
       "\t RT @watchingyou81: \\#Barcelona \\#Demonstration \\#Geflüchtete \\#NoH8\n",
       "\"Eine Demonstration der besonderen Art gab es am Samstag in der... https://… & FALSE                                                                                                                                                 & 0                                                                                                                                                     & NA                                                                                                                                                    & 2017-02-18 18:11:17                                                                                                                                   & FALSE                                                                                                                                                 & NA                                                                                                                                                    & 833016047850684417                                                                                                                                    & NA                                                                                                                                                    & <a href=\"http://twitter.com/download/iphone\" rel=\"nofollow\">Twitter for iPhone</a>                                                                    & QueenMandjago                                                                                                                                         &  3                                                                                                                                                    &  TRUE                                                                                                                                                 & FALSE                                                                                                                                                 & NA                                                                                                                                                    & NA                                                                                                                                                   \\\\\n",
       "\t Vaixell de rescat \\#refugiats platja \\#Barceloneta \\#ProuExcuses \\#VolemAcollir \\#AcollimAra \\#Barcelona \\#BCN... https://t.co/rl75jJ3ui8            & FALSE                                                                                                                                                       & 0                                                                                                                                                           & NA                                                                                                                                                          & 2017-02-18 18:11:14                                                                                                                                         & FALSE                                                                                                                                                       & NA                                                                                                                                                          & 833016038383947777                                                                                                                                          & NA                                                                                                                                                          & <a href=\"http://www.facebook.com/twitter\" rel=\"nofollow\">Facebook</a>                                                                                       & Inyaki9Barris                                                                                                                                               &  0                                                                                                                                                          & FALSE                                                                                                                                                       & FALSE                                                                                                                                                       & NA                                                                                                                                                          & NA                                                                                                                                                         \\\\\n",
       "\t Vaixell de rescat \\#refugiats platja \\#Barceloneta \\#ProuExcuses \\#VolemAcollir \\#AcollimAra \\#Barcelona \\#BCN… https://t.co/sh26Me6MzD              & FALSE                                                                                                                                                       & 0                                                                                                                                                           & NA                                                                                                                                                          & 2017-02-18 18:11:08                                                                                                                                         &  TRUE                                                                                                                                                       & NA                                                                                                                                                          & 833016012874346496                                                                                                                                          & NA                                                                                                                                                          & <a href=\"http://twitter.com/download/android\" rel=\"nofollow\">Twitter for Android</a>                                                                        & Inyaki9Barris                                                                                                                                               &  0                                                                                                                                                          & FALSE                                                                                                                                                       & FALSE                                                                                                                                                       & NA                                                                                                                                                          & NA                                                                                                                                                         \\\\\n",
       "\\end{tabular}\n"
      ],
      "text/markdown": [
       "\n",
       "text | favorited | favoriteCount | replyToSN | created | truncated | replyToSID | id | replyToUID | statusSource | screenName | retweetCount | isRetweet | retweeted | longitude | latitude | \n",
       "|---|---|---|---|---|---|\n",
       "| RT @KommunikaCat: 1000e demonstrieren in #Barcelona #Katalonien f. Aufnahme von Flüchtlingen @lessentielde @focus_europa @Institut_IRE #ref…  | FALSE                                                                                                                                         | 0                                                                                                                                             | NA                                                                                                                                            | 2017-02-18 18:11:29                                                                                                                           | FALSE                                                                                                                                         | NA                                                                                                                                            | 833016100732420096                                                                                                                            | NA                                                                                                                                            | <a href=\"http://twitter.com/download/iphone\" rel=\"nofollow\">Twitter for iPhone</a>                                                            | lizcastro                                                                                                                                     | 13                                                                                                                                            |  TRUE                                                                                                                                         | FALSE                                                                                                                                         | NA                                                                                                                                            | NA                                                                                                                                            | \n",
       "| RT @Chara_fc: Thousands in #Barcelona urge #Spain's govt to take in more #refugees who have fled war in #Syria+other violent conflicts,@AP-…  | FALSE                                                                                                                                         | 0                                                                                                                                             | NA                                                                                                                                            | 2017-02-18 18:11:27                                                                                                                           | FALSE                                                                                                                                         | NA                                                                                                                                            | 833016090187939840                                                                                                                            | NA                                                                                                                                            | <a href=\"https://roundteam.co\" rel=\"nofollow\">RoundTeam</a>                                                                                   | migrantslives                                                                                                                                 |  2                                                                                                                                            |  TRUE                                                                                                                                         | FALSE                                                                                                                                         | NA                                                                                                                                            | NA                                                                                                                                            | \n",
       "| #madrid #españa #sociedad  #opfabra #valencia  #nwo #castellon #barcelona #justicia #barespaña https://t.co/sIsrjzBkSu                        | FALSE                                                                                                                                         | 0                                                                                                                                             | NA                                                                                                                                            | 2017-02-18 18:11:27                                                                                                                           | FALSE                                                                                                                                         | NA                                                                                                                                            | 833016089277767683                                                                                                                            | NA                                                                                                                                            | <a href=\"http://www.botize.com\" rel=\"nofollow\">Botize</a>                                                                                     | OpFabra                                                                                                                                       |  0                                                                                                                                            | FALSE                                                                                                                                         | FALSE                                                                                                                                         | NA                                                                                                                                            | NA                                                                                                                                            | \n",
       "| RT @watchingyou81: #Barcelona #Demonstration #Geflüchtete #NoH8\n",
       "\"Eine Demonstration der besonderen Art gab es am Samstag in der... https://… | FALSE                                                                                                                                         | 0                                                                                                                                             | NA                                                                                                                                            | 2017-02-18 18:11:17                                                                                                                           | FALSE                                                                                                                                         | NA                                                                                                                                            | 833016047850684417                                                                                                                            | NA                                                                                                                                            | <a href=\"http://twitter.com/download/iphone\" rel=\"nofollow\">Twitter for iPhone</a>                                                            | QueenMandjago                                                                                                                                 |  3                                                                                                                                            |  TRUE                                                                                                                                         | FALSE                                                                                                                                         | NA                                                                                                                                            | NA                                                                                                                                            | \n",
       "| Vaixell de rescat #refugiats platja #Barceloneta #ProuExcuses #VolemAcollir #AcollimAra #Barcelona #BCN... https://t.co/rl75jJ3ui8            | FALSE                                                                                                                                         | 0                                                                                                                                             | NA                                                                                                                                            | 2017-02-18 18:11:14                                                                                                                           | FALSE                                                                                                                                         | NA                                                                                                                                            | 833016038383947777                                                                                                                            | NA                                                                                                                                            | <a href=\"http://www.facebook.com/twitter\" rel=\"nofollow\">Facebook</a>                                                                         | Inyaki9Barris                                                                                                                                 |  0                                                                                                                                            | FALSE                                                                                                                                         | FALSE                                                                                                                                         | NA                                                                                                                                            | NA                                                                                                                                            | \n",
       "| Vaixell de rescat #refugiats platja #Barceloneta #ProuExcuses #VolemAcollir #AcollimAra #Barcelona #BCN… https://t.co/sh26Me6MzD              | FALSE                                                                                                                                         | 0                                                                                                                                             | NA                                                                                                                                            | 2017-02-18 18:11:08                                                                                                                           |  TRUE                                                                                                                                         | NA                                                                                                                                            | 833016012874346496                                                                                                                            | NA                                                                                                                                            | <a href=\"http://twitter.com/download/android\" rel=\"nofollow\">Twitter for Android</a>                                                          | Inyaki9Barris                                                                                                                                 |  0                                                                                                                                            | FALSE                                                                                                                                         | FALSE                                                                                                                                         | NA                                                                                                                                            | NA                                                                                                                                            | \n",
       "\n",
       "\n"
      ],
      "text/plain": [
       "  text                                                                                                                                         \n",
       "1 RT @KommunikaCat: 1000e demonstrieren in #Barcelona #Katalonien f. Aufnahme von Flüchtlingen @lessentielde @focus_europa @Institut_IRE #ref",
       " \n",
       "2 RT @Chara_fc: Thousands in #Barcelona urge #Spain's govt to take in more #refugees who have fled war in #Syria+other violent conflicts,@AP-",
       " \n",
       "3 #madrid #españa #sociedad  #opfabra #valencia  #nwo #castellon #barcelona #justicia #barespaña https://t.co/sIsrjzBkSu                       \n",
       "4 RT @watchingyou81: #Barcelona #Demonstration #Geflüchtete #NoH8\\n\"Eine Demonstration der besonderen Art gab es am Samstag in der... https://",
       "\n",
       "5 Vaixell de rescat #refugiats platja #Barceloneta #ProuExcuses #VolemAcollir #AcollimAra #Barcelona #BCN... https://t.co/rl75jJ3ui8           \n",
       "6 Vaixell de rescat #refugiats platja #Barceloneta #ProuExcuses #VolemAcollir #AcollimAra #Barcelona #BCN",
       " https://t.co/sh26Me6MzD             \n",
       "  favorited favoriteCount replyToSN created             truncated replyToSID\n",
       "1 FALSE     0             NA        2017-02-18 18:11:29 FALSE     NA        \n",
       "2 FALSE     0             NA        2017-02-18 18:11:27 FALSE     NA        \n",
       "3 FALSE     0             NA        2017-02-18 18:11:27 FALSE     NA        \n",
       "4 FALSE     0             NA        2017-02-18 18:11:17 FALSE     NA        \n",
       "5 FALSE     0             NA        2017-02-18 18:11:14 FALSE     NA        \n",
       "6 FALSE     0             NA        2017-02-18 18:11:08  TRUE     NA        \n",
       "  id                 replyToUID\n",
       "1 833016100732420096 NA        \n",
       "2 833016090187939840 NA        \n",
       "3 833016089277767683 NA        \n",
       "4 833016047850684417 NA        \n",
       "5 833016038383947777 NA        \n",
       "6 833016012874346496 NA        \n",
       "  statusSource                                                                        \n",
       "1 <a href=\"http://twitter.com/download/iphone\" rel=\"nofollow\">Twitter for iPhone</a>  \n",
       "2 <a href=\"https://roundteam.co\" rel=\"nofollow\">RoundTeam</a>                         \n",
       "3 <a href=\"http://www.botize.com\" rel=\"nofollow\">Botize</a>                           \n",
       "4 <a href=\"http://twitter.com/download/iphone\" rel=\"nofollow\">Twitter for iPhone</a>  \n",
       "5 <a href=\"http://www.facebook.com/twitter\" rel=\"nofollow\">Facebook</a>               \n",
       "6 <a href=\"http://twitter.com/download/android\" rel=\"nofollow\">Twitter for Android</a>\n",
       "  screenName    retweetCount isRetweet retweeted longitude latitude\n",
       "1 lizcastro     13            TRUE     FALSE     NA        NA      \n",
       "2 migrantslives  2            TRUE     FALSE     NA        NA      \n",
       "3 OpFabra        0           FALSE     FALSE     NA        NA      \n",
       "4 QueenMandjago  3            TRUE     FALSE     NA        NA      \n",
       "5 Inyaki9Barris  0           FALSE     FALSE     NA        NA      \n",
       "6 Inyaki9Barris  0           FALSE     FALSE     NA        NA      "
      ]
     },
     "metadata": {},
     "output_type": "display_data"
    }
   ],
   "source": [
    "#Convert the tweets into a Data Frame\n",
    "dataFrame <- twListToDF(searchTweets)\n",
    "head(dataFrame)"
   ]
  },
  {
   "cell_type": "code",
   "execution_count": 49,
   "metadata": {
    "collapsed": false
   },
   "outputs": [
    {
     "data": {
      "text/html": [
       "TRUE"
      ],
      "text/latex": [
       "TRUE"
      ],
      "text/markdown": [
       "TRUE"
      ],
      "text/plain": [
       "[1] TRUE"
      ]
     },
     "metadata": {},
     "output_type": "display_data"
    }
   ],
   "source": [
    "#Store the tweets into a SQLite Database\n",
    "sql_lite_file = tempfile()\n",
    "register_sqlite_backend(sql_lite_file)\n",
    "store_tweets_db(searchTweets)"
   ]
  },
  {
   "cell_type": "code",
   "execution_count": 50,
   "metadata": {
    "collapsed": true
   },
   "outputs": [
    {
     "data": {
      "text/plain": [
       "[[1]]\n",
       "[1] \"lizcastro: RT @KommunikaCat: 1000e demonstrieren in #Barcelona #Katalonien f. Aufnahme von Flüchtlingen @lessentielde @focus_europa @Institut_IRE #ref",
       "\"\n",
       "\n",
       "[[2]]\n",
       "[1] \"migrantslives: RT @Chara_fc: Thousands in #Barcelona urge #Spain's govt to take in more #refugees who have fled war in #Syria+other violent conflicts,@AP-",
       "\"\n",
       "\n",
       "[[3]]\n",
       "[1] \"OpFabra: #madrid #españa #sociedad  #opfabra #valencia  #nwo #castellon #barcelona #justicia #barespaña https://t.co/sIsrjzBkSu\"\n",
       "\n",
       "[[4]]\n",
       "[1] \"QueenMandjago: RT @watchingyou81: #Barcelona #Demonstration #Geflüchtete #NoH8\\n\\\"Eine Demonstration der besonderen Art gab es am Samstag in der... https://",
       "\"\n",
       "\n",
       "[[5]]\n",
       "[1] \"Inyaki9Barris: Vaixell de rescat #refugiats platja #Barceloneta #ProuExcuses #VolemAcollir #AcollimAra #Barcelona #BCN... https://t.co/rl75jJ3ui8\"\n",
       "\n",
       "[[6]]\n",
       "[1] \"Inyaki9Barris: Vaixell de rescat #refugiats platja #Barceloneta #ProuExcuses #VolemAcollir #AcollimAra #Barcelona #BCN",
       " https://t.co/sh26Me6MzD\"\n"
      ]
     },
     "metadata": {},
     "output_type": "display_data"
    }
   ],
   "source": [
    "#Load the tweets from the SQLite Database\n",
    "from_db = load_tweets_db()\n",
    "head(from_db)"
   ]
  },
  {
   "cell_type": "code",
   "execution_count": 51,
   "metadata": {
    "collapsed": false
   },
   "outputs": [
    {
     "data": {
      "text/plain": [
       "[[1]]\n",
       "[1] \"TeamMessi: Leo y los jugadores de Backed by Messi cuentan cómo se preparan para el partido en el Ep. 4:",
       " https://t.co/SxNylNKuJo\"\n",
       "\n",
       "[[2]]\n",
       "[1] \"TeamMessi: Its game time.<U+23F1>\\nLeo and the Backed by Messi players share their match-day mentality in Ep. 4:",
       " https://t.co/Y8vOLZwW1B\"\n",
       "\n",
       "[[3]]\n",
       "[1] \"TeamMessi: Unrivaled agility for the worlds best.\\nThe Blue Blast #Messi16.\\nAvailable now: https://t.co/THRQznirIS",
       " https://t.co/PMMspAvVV7\"\n",
       "\n",
       "[[4]]\n",
       "[1] \"TeamMessi: La agilidad incomparable del mejor del mundo. \\nDisponibles ya: https://t.co/Apj0mbyRsT\\n#Messi16 #NeverFollow https://t.co/Tw4Te2hbdl\"\n",
       "\n",
       "[[5]]\n",
       "[1] \"TeamMessi: La segunda parte de la temporada ya está aquí.\\nLeo está preparado.\\n#Messi16 #NeverFollow https://t.co/FbYpGof3TE\"\n"
      ]
     },
     "metadata": {},
     "output_type": "display_data"
    }
   ],
   "source": [
    "#Retrieve the User Timeline and display top 5 tweets\n",
    "messi_tweets <- userTimeline( 'TeamMessi')\n",
    "messi_tweets[1:5]"
   ]
  },
  {
   "cell_type": "code",
   "execution_count": 57,
   "metadata": {
    "collapsed": false
   },
   "outputs": [
    {
     "data": {
      "text/html": [
       "100"
      ],
      "text/latex": [
       "100"
      ],
      "text/markdown": [
       "100"
      ],
      "text/plain": [
       "[1] 100"
      ]
     },
     "metadata": {},
     "output_type": "display_data"
    }
   ],
   "source": [
    "#Retrieve User Timeline and check length\n",
    "messi_tweets_large <- userTimeline( 'TeamMessi', n=100)\n",
    "length(messi_tweets_large)"
   ]
  },
  {
   "cell_type": "code",
   "execution_count": 53,
   "metadata": {
    "collapsed": false
   },
   "outputs": [
    {
     "data": {
      "text/html": [
       "<table>\n",
       "<thead><tr><th scope=col>name</th><th scope=col>country</th><th scope=col>woeid</th></tr></thead>\n",
       "<tbody>\n",
       "\t<tr><td>Worldwide</td><td>         </td><td>1        </td></tr>\n",
       "\t<tr><td>Winnipeg </td><td>Canada   </td><td>2972     </td></tr>\n",
       "\t<tr><td>Ottawa   </td><td>Canada   </td><td>3369     </td></tr>\n",
       "\t<tr><td>Quebec   </td><td>Canada   </td><td>3444     </td></tr>\n",
       "\t<tr><td>Montreal </td><td>Canada   </td><td>3534     </td></tr>\n",
       "\t<tr><td>Toronto  </td><td>Canada   </td><td>4118     </td></tr>\n",
       "</tbody>\n",
       "</table>\n"
      ],
      "text/latex": [
       "\\begin{tabular}{r|lll}\n",
       " name & country & woeid\\\\\n",
       "\\hline\n",
       "\t Worldwide &           & 1        \\\\\n",
       "\t Winnipeg  & Canada    & 2972     \\\\\n",
       "\t Ottawa    & Canada    & 3369     \\\\\n",
       "\t Quebec    & Canada    & 3444     \\\\\n",
       "\t Montreal  & Canada    & 3534     \\\\\n",
       "\t Toronto   & Canada    & 4118     \\\\\n",
       "\\end{tabular}\n"
      ],
      "text/markdown": [
       "\n",
       "name | country | woeid | \n",
       "|---|---|---|---|---|---|\n",
       "| Worldwide |           | 1         | \n",
       "| Winnipeg  | Canada    | 2972      | \n",
       "| Ottawa    | Canada    | 3369      | \n",
       "| Quebec    | Canada    | 3444      | \n",
       "| Montreal  | Canada    | 3534      | \n",
       "| Toronto   | Canada    | 4118      | \n",
       "\n",
       "\n"
      ],
      "text/plain": [
       "  name      country woeid\n",
       "1 Worldwide         1    \n",
       "2 Winnipeg  Canada  2972 \n",
       "3 Ottawa    Canada  3369 \n",
       "4 Quebec    Canada  3444 \n",
       "5 Montreal  Canada  3534 \n",
       "6 Toronto   Canada  4118 "
      ]
     },
     "metadata": {},
     "output_type": "display_data"
    }
   ],
   "source": [
    "#Check for a list of locations with current Trend\n",
    "avail_trends = availableTrendLocations()\n",
    "head(avail_trends)"
   ]
  },
  {
   "cell_type": "code",
   "execution_count": 54,
   "metadata": {
    "collapsed": false
   },
   "outputs": [
    {
     "data": {
      "text/html": [
       "<table>\n",
       "<thead><tr><th scope=col>name</th><th scope=col>country</th><th scope=col>woeid</th></tr></thead>\n",
       "<tbody>\n",
       "\t<tr><td>Concepcion</td><td>Chile     </td><td>349860    </td></tr>\n",
       "</tbody>\n",
       "</table>\n"
      ],
      "text/latex": [
       "\\begin{tabular}{r|lll}\n",
       " name & country & woeid\\\\\n",
       "\\hline\n",
       "\t Concepcion & Chile      & 349860    \\\\\n",
       "\\end{tabular}\n"
      ],
      "text/markdown": [
       "\n",
       "name | country | woeid | \n",
       "|---|\n",
       "| Concepcion | Chile      | 349860     | \n",
       "\n",
       "\n"
      ],
      "text/plain": [
       "  name       country woeid \n",
       "1 Concepcion Chile   349860"
      ]
     },
     "metadata": {},
     "output_type": "display_data"
    }
   ],
   "source": [
    "#Get closest location for the given coordinates\n",
    "close_trends = closestTrendLocations(-42.8, -71.1)\n",
    "head(close_trends)"
   ]
  },
  {
   "cell_type": "code",
   "execution_count": 55,
   "metadata": {
    "collapsed": false,
    "scrolled": true
   },
   "outputs": [
    {
     "data": {
      "text/html": [
       "<table>\n",
       "<thead><tr><th scope=col>name</th><th scope=col>url</th><th scope=col>query</th><th scope=col>woeid</th></tr></thead>\n",
       "<tbody>\n",
       "\t<tr><td>#AAASmtg                                 </td><td>http://twitter.com/search?q=%23AAASmtg   </td><td>%23AAASmtg                               </td><td>2367105                                  </td></tr>\n",
       "\t<tr><td>Amtrak                                   </td><td>http://twitter.com/search?q=Amtrak       </td><td>Amtrak                                   </td><td>2367105                                  </td></tr>\n",
       "\t<tr><td>Huskies                                  </td><td>http://twitter.com/search?q=Huskies      </td><td>Huskies                                  </td><td>2367105                                  </td></tr>\n",
       "\t<tr><td>#GoNU                                    </td><td>http://twitter.com/search?q=%23GoNU      </td><td>%23GoNU                                  </td><td>2367105                                  </td></tr>\n",
       "\t<tr><td>#Boskone                                 </td><td>http://twitter.com/search?q=%23Boskone   </td><td>%23Boskone                               </td><td>2367105                                  </td></tr>\n",
       "\t<tr><td>#DayofFacts                              </td><td>http://twitter.com/search?q=%23DayofFacts</td><td>%23DayofFacts                            </td><td>2367105                                  </td></tr>\n",
       "</tbody>\n",
       "</table>\n"
      ],
      "text/latex": [
       "\\begin{tabular}{r|llll}\n",
       " name & url & query & woeid\\\\\n",
       "\\hline\n",
       "\t \\#AAASmtg                                  & http://twitter.com/search?q=\\%23AAASmtg    & \\%23AAASmtg                                & 2367105                                    \\\\\n",
       "\t Amtrak                                    & http://twitter.com/search?q=Amtrak        & Amtrak                                    & 2367105                                  \\\\\n",
       "\t Huskies                                   & http://twitter.com/search?q=Huskies       & Huskies                                   & 2367105                                  \\\\\n",
       "\t \\#GoNU                                     & http://twitter.com/search?q=\\%23GoNU       & \\%23GoNU                                   & 2367105                                    \\\\\n",
       "\t \\#Boskone                                  & http://twitter.com/search?q=\\%23Boskone    & \\%23Boskone                                & 2367105                                    \\\\\n",
       "\t \\#DayofFacts                               & http://twitter.com/search?q=\\%23DayofFacts & \\%23DayofFacts                             & 2367105                                    \\\\\n",
       "\\end{tabular}\n"
      ],
      "text/markdown": [
       "\n",
       "name | url | query | woeid | \n",
       "|---|---|---|---|---|---|\n",
       "| #AAASmtg                                  | http://twitter.com/search?q=%23AAASmtg    | %23AAASmtg                                | 2367105                                   | \n",
       "| Amtrak                                    | http://twitter.com/search?q=Amtrak        | Amtrak                                    | 2367105                                   | \n",
       "| Huskies                                   | http://twitter.com/search?q=Huskies       | Huskies                                   | 2367105                                   | \n",
       "| #GoNU                                     | http://twitter.com/search?q=%23GoNU       | %23GoNU                                   | 2367105                                   | \n",
       "| #Boskone                                  | http://twitter.com/search?q=%23Boskone    | %23Boskone                                | 2367105                                   | \n",
       "| #DayofFacts                               | http://twitter.com/search?q=%23DayofFacts | %23DayofFacts                             | 2367105                                   | \n",
       "\n",
       "\n"
      ],
      "text/plain": [
       "  name        url                                       query         woeid  \n",
       "1 #AAASmtg    http://twitter.com/search?q=%23AAASmtg    %23AAASmtg    2367105\n",
       "2 Amtrak      http://twitter.com/search?q=Amtrak        Amtrak        2367105\n",
       "3 Huskies     http://twitter.com/search?q=Huskies       Huskies       2367105\n",
       "4 #GoNU       http://twitter.com/search?q=%23GoNU       %23GoNU       2367105\n",
       "5 #Boskone    http://twitter.com/search?q=%23Boskone    %23Boskone    2367105\n",
       "6 #DayofFacts http://twitter.com/search?q=%23DayofFacts %23DayofFacts 2367105"
      ]
     },
     "metadata": {},
     "output_type": "display_data"
    }
   ],
   "source": [
    "#Receive trends for the location provided by woeid\n",
    "#woeid- where on Earth ID\n",
    "trends = getTrends(2367105)\n",
    "head(trends)"
   ]
  },
  {
   "cell_type": "code",
   "execution_count": 60,
   "metadata": {
    "collapsed": false
   },
   "outputs": [
    {
     "data": {
      "image/png": "[encoded data removed]",
      "text/plain": [
       "plot without title"
      ]
     },
     "metadata": {},
     "output_type": "display_data"
    }
   ],
   "source": [
    "#Create a Pie-Chart from a small collection of tweets on a certain topic\n",
    "r_tweets <- searchTwitter(\"#Messi\", n=300)\n",
    "sources <- sapply(r_tweets, function(x) x$getStatusSource())\n",
    "sources <- gsub(\"</a>\", \"\", sources)\n",
    "sources <- strsplit(sources, \">\")\n",
    "sources <- sapply(sources, function(x) ifelse(length(x) > 1, x[2], x[1]))\n",
    "source_table = table(sources)\n",
    "pie(source_table[source_table > 10])\n"
   ]
  },
  {
   "cell_type": "code",
   "execution_count": null,
   "metadata": {
    "collapsed": true
   },
   "outputs": [],
   "source": []
  }
 ],
 "metadata": {
  "kernelspec": {
   "display_name": "R",
   "language": "R",
   "name": "ir"
  },
  "language_info": {
   "codemirror_mode": "r",
   "file_extension": ".r",
   "mimetype": "text/x-r-source",
   "name": "R",
   "pygments_lexer": "r",
   "version": "3.3.2"
  }
 },
 "nbformat": 4,
 "nbformat_minor": 2
}
